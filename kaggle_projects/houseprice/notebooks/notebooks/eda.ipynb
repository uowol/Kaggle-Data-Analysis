{
 "cells": [
  {
   "cell_type": "markdown",
   "id": "42e32f2e",
   "metadata": {},
   "source": [
    "# 📊 Initial EDA\n",
    "EDA for House Prices Dataset"
   ]
  },
  {
   "cell_type": "code",
   "execution_count": null,
   "id": "673ed44d",
   "metadata": {},
   "outputs": [],
   "source": [
    "import pandas as pd\n",
    "import matplotlib.pyplot as plt\n",
    "import seaborn as sns"
   ]
  },
  {
   "cell_type": "code",
   "execution_count": null,
   "id": "7b47de6c",
   "metadata": {},
   "outputs": [],
   "source": [
    "df = pd.read_csv('/home/dev/data-analysis/data/houseprice/raw/train.csv')\n",
    "df.shape, df.dtypes.value_counts()"
   ]
  },
  {
   "cell_type": "code",
   "execution_count": null,
   "id": "dc1281b4",
   "metadata": {},
   "outputs": [],
   "source": [
    "df.isnull().sum().sort_values(ascending=False).head(10)"
   ]
  },
  {
   "cell_type": "markdown",
   "id": "e8f68be5",
   "metadata": {},
   "source": [
    "### 🔍 결측치 상위 항목 및 분류\n",
    "- 대부분 MAR로 판단\n",
    "- `Electrical`: MCAR\n",
    "- `LotFrontage`: 지역 기반 보간 고려"
   ]
  },
  {
   "cell_type": "code",
   "execution_count": null,
   "id": "e9924ddd",
   "metadata": {},
   "outputs": [],
   "source": [
    "df.select_dtypes(include='object').nunique().sort_values(ascending=False).head()"
   ]
  }
 ],
 "metadata": {
  "language_info": {
   "name": "python"
  }
 },
 "nbformat": 4,
 "nbformat_minor": 5
}
